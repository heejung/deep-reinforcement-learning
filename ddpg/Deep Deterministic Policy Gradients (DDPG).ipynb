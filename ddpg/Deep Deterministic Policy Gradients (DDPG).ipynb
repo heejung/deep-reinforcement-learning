{
 "cells": [
  {
   "cell_type": "markdown",
   "metadata": {},
   "source": [
    "# Continous Control w/ Deep RL: Deep Deterministic Policy Gradients (DDPG)"
   ]
  },
  {
   "cell_type": "markdown",
   "metadata": {},
   "source": [
    "The implementation is based on *CONTINUOUS CONTROL WITH DEEP REINFORCEMENT\n",
    "LEARNING* by Lillicrap and Hunt et al: https://arxiv.org/pdf/1509.02971.pdf."
   ]
  },
  {
   "cell_type": "markdown",
   "metadata": {},
   "source": [
    "## Set up"
   ]
  },
  {
   "cell_type": "code",
   "execution_count": 1,
   "metadata": {},
   "outputs": [
    {
     "name": "stderr",
     "output_type": "stream",
     "text": [
      "INFO:unityagents:\n",
      "'Academy' started successfully!\n",
      "Unity Academy name: Academy\n",
      "        Number of Brains: 1\n",
      "        Number of External Brains : 1\n",
      "        Lesson number : 0\n",
      "        Reset Parameters :\n",
      "\t\tgoal_speed -> 1.0\n",
      "\t\tgoal_size -> 5.0\n",
      "Unity brain name: ReacherBrain\n",
      "        Number of Visual Observations (per agent): 0\n",
      "        Vector Observation space type: continuous\n",
      "        Vector Observation space size (per agent): 33\n",
      "        Number of stacked Vector Observation: 1\n",
      "        Vector Action space type: continuous\n",
      "        Vector Action space size (per agent): 4\n",
      "        Vector Action descriptions: , , , \n"
     ]
    }
   ],
   "source": [
    "from unityagents import UnityEnvironment\n",
    "import numpy as np\n",
    "\n",
    "env = UnityEnvironment(file_name='Reacher.app')"
   ]
  },
  {
   "cell_type": "markdown",
   "metadata": {},
   "source": [
    "## Some Hyperparameters"
   ]
  },
  {
   "cell_type": "code",
   "execution_count": 10,
   "metadata": {},
   "outputs": [
    {
     "name": "stdout",
     "output_type": "stream",
     "text": [
      "20\n",
      "4\n",
      "33\n",
      "cpu\n"
     ]
    }
   ],
   "source": [
    "import torch\n",
    "import torch.nn as nn\n",
    "import torch.nn.functional as F\n",
    "import math\n",
    "\n",
    "# get the default brain\n",
    "brain_name = env.brain_names[0]\n",
    "brain = env.brains[brain_name]\n",
    "\n",
    "# reset the environment\n",
    "env_info = env.reset(train_mode=True)[brain_name]\n",
    "num_agents = len(env_info.agents)\n",
    "print(num_agents)\n",
    "\n",
    "action_size = brain.vector_action_space_size\n",
    "print(action_size)\n",
    "\n",
    "# examine the state space \n",
    "states = env_info.vector_observations\n",
    "state_size = states.shape[1]\n",
    "print(state_size)\n",
    "\n",
    "device = torch.device(\"cuda:0\" if torch.cuda.is_available() else \"cpu\")\n",
    "print(device)\n",
    "\n",
    "# Hyperparameters\n",
    "batch_size = 128\n",
    "seed = 3\n",
    "buffer_size = int(1e5)\n",
    "update_every = 1\n",
    "gamma = 0.99 # discount\n",
    "tau = 0.001\n",
    "actor_learning_rate = 1e-4\n",
    "critic_learning_rate = 1e-4\n",
    "critic_weight_decay = 0\n",
    "fc1_dim = 256\n",
    "fc2_dim = 128"
   ]
  },
  {
   "cell_type": "markdown",
   "metadata": {},
   "source": [
    "## Class Definitions"
   ]
  },
  {
   "cell_type": "code",
   "execution_count": 11,
   "metadata": {},
   "outputs": [],
   "source": [
    "# Actor - Policy\n",
    "class Actor(nn.Module):\n",
    "    def __init__(self, action_size, state_size, seed, fc1_dim=400, fc2_dim=300):\n",
    "        super(Actor, self).__init__()\n",
    "        self.seed = torch.manual_seed(seed)\n",
    "        self.fc1 = nn.Linear(state_size, fc1_dim)\n",
    "        self.fc2 = nn.Linear(fc1_dim, fc2_dim)\n",
    "        self.output = nn.Linear(fc2_dim, action_size)\n",
    "#         self.batch_norm1 = nn.BatchNorm1d(state_size)\n",
    "#         self.batch_norm2 = nn.BatchNorm1d(fc1_dim)\n",
    "#         self.batch_norm3 = nn.BatchNorm1d(fc2_dim)\n",
    "        self.tanh = nn.Tanh()\n",
    "        self.reset_parameters(fc1_dim, fc2_dim)\n",
    "        \n",
    "    def reset_parameters(self, fc1_dim, fc2_dim):\n",
    "        self.fc1.weight.data.uniform_(-1./math.sqrt(fc1_dim), 1./math.sqrt(fc1_dim))\n",
    "        self.fc2.weight.data.uniform_(-1./math.sqrt(fc2_dim), 1./math.sqrt(fc2_dim))\n",
    "        self.output.weight.data.uniform_(-3e-3, 3e-3)\n",
    "        self.output.bias.data.uniform_(3e-4, 3e-4)\n",
    "        \n",
    "    def forward(self, states):\n",
    "        x = states\n",
    "#         x = self.batch_norm1(x)\n",
    "        x = F.relu(self.fc1(x))\n",
    "#         x = self.batch_norm2(x)\n",
    "        x = F.relu(self.fc2(x))\n",
    "#         x = self.batch_norm3(x)\n",
    "        return self.tanh(self.output(x))\n",
    "\n",
    "actor = Actor(action_size, state_size, seed, fc1_dim, fc2_dim)\n",
    "actor_target = Actor(action_size, state_size, seed, fc1_dim, fc2_dim)\n",
    "actor_optimizer = torch.optim.Adam(actor.parameters(), lr=actor_learning_rate)"
   ]
  },
  {
   "cell_type": "code",
   "execution_count": 12,
   "metadata": {},
   "outputs": [],
   "source": [
    "# Critic - Q Value\n",
    "class Critic(nn.Module):\n",
    "    def __init__(self, action_size, state_size, seed, fc1_dim=400, fc2_dim=300):\n",
    "        super(Critic, self).__init__()\n",
    "        self.seed = torch.manual_seed(seed)\n",
    "        self.fc1 = nn.Linear(state_size, fc1_dim)\n",
    "        self.fc2 = nn.Linear(fc1_dim+action_size, fc2_dim)\n",
    "        self.output = nn.Linear(fc2_dim, 1)\n",
    "#         self.batch_norm1 = nn.BatchNorm1d(state_size)\n",
    "#         self.batch_norm2 = nn.BatchNorm1d(fc1_dim)\n",
    "        self.reset_parameters(fc1_dim, fc2_dim+action_size)\n",
    "        \n",
    "    def reset_parameters(self, fc1_dim, fc2_dim):\n",
    "        self.fc1.weight.data.uniform_(-1./math.sqrt(fc1_dim), 1./math.sqrt(fc1_dim))\n",
    "        self.fc2.weight.data.uniform_(-1./math.sqrt(fc2_dim), 1./math.sqrt(fc2_dim))\n",
    "        self.output.weight.data.uniform_(-3e-3, 3e-3)\n",
    "        self.output.bias.data.uniform_(3e-4, 3e-4)\n",
    "        \n",
    "    def forward(self, states, actions):\n",
    "        xs = states\n",
    "#         xs = self.batch_norm1(xs)\n",
    "        xs = F.relu(self.fc1(xs))\n",
    "#         xs = self.batch_norm2(xs)\n",
    "        x = torch.cat((xs, actions), dim=1)\n",
    "        x = F.relu(self.fc2(x))\n",
    "        return self.output(x)\n",
    "\n",
    "critic = Critic(action_size, state_size, seed, fc1_dim, fc2_dim)\n",
    "critic_target = Critic(action_size, state_size, seed, fc1_dim, fc2_dim)\n",
    "critic_optimizer = torch.optim.Adam(critic.parameters(), lr=critic_learning_rate,\n",
    "                                    weight_decay=critic_weight_decay)"
   ]
  },
  {
   "cell_type": "code",
   "execution_count": 13,
   "metadata": {},
   "outputs": [],
   "source": [
    "# ReplayBuffer\n",
    "from collections import namedtuple, deque\n",
    "import random\n",
    "\n",
    "class ReplayBuffer:\n",
    "    \"\"\"Fixed-size buffer to store experience tuples.\"\"\"\n",
    "    def __init__(self, action_size, buffer_size, batch_size, seed, device):\n",
    "        self.action_size = action_size\n",
    "        self.memory = deque(maxlen=buffer_size)\n",
    "        self.batch_size = batch_size\n",
    "        self.experience = namedtuple(\"Experience\", field_names=[\"state\", \"action\", \"reward\", \"next_state\", \"done\"])\n",
    "        self.seed = random.seed(seed)\n",
    "        self.device = device\n",
    "    \n",
    "    def add(self, state, action, reward, next_state, done):\n",
    "        \"\"\"Add a new experience to memory.\"\"\"\n",
    "        e = self.experience(state, action, reward, next_state, done)\n",
    "        self.memory.append(e)\n",
    "    \n",
    "    def sample(self):\n",
    "        experiences = random.sample(self.memory, k=self.batch_size)\n",
    "        \n",
    "        states = torch.from_numpy(np.vstack([e.state for e in experiences if e is not None])).float().to(self.device)\n",
    "        actions = torch.from_numpy(np.vstack([e.action for e in experiences if e is not None])).float().to(self.device)\n",
    "        rewards = torch.from_numpy(np.vstack([e.reward for e in experiences if e is not None])).float().to(self.device)\n",
    "        next_states = torch.from_numpy(np.vstack([e.next_state for e in experiences if e is not None])).float().to(self.device)\n",
    "        dones = torch.from_numpy(np.vstack([e.done for e in experiences if e is not None]).astype(np.uint8)).float().to(self.device)\n",
    "  \n",
    "        return (states, actions, rewards, next_states, dones)\n",
    "        \n",
    "    def __len__(self):\n",
    "        \"\"\"Return the current size of internal memory.\"\"\"\n",
    "        return len(self.memory)\n",
    "    \n",
    "memory = ReplayBuffer(action_size, buffer_size, batch_size, seed, device)"
   ]
  },
  {
   "cell_type": "code",
   "execution_count": 14,
   "metadata": {},
   "outputs": [],
   "source": [
    "# Noise\n",
    "import copy\n",
    "import numpy as np\n",
    "import random\n",
    "\n",
    "class OrnsteinUhlenbeckNoise:\n",
    "    \"\"\"Ornstein-Uhlenbeck process.\"\"\"\n",
    "\n",
    "    def __init__(self, size, seed, mu=0., theta=0.15, sigma=0.2):\n",
    "        \"\"\"Initialize parameters and noise process.\"\"\"\n",
    "        self.mu = mu * np.ones(size)\n",
    "        self.size = size\n",
    "        self.theta = theta\n",
    "        self.sigma = sigma\n",
    "        self.seed = random.seed(seed)\n",
    "        self.reset()\n",
    "\n",
    "    def reset(self):\n",
    "        self.state = copy.copy(self.mu)\n",
    "\n",
    "    def sample(self):\n",
    "        x = self.state        \n",
    "        dx = self.theta * (self.mu - x) + self.sigma * np.random.standard_normal(self.size)\n",
    "        self.state = x + dx\n",
    "        return self.state\n",
    "    \n",
    "noise = OrnsteinUhlenbeckNoise((num_agents, action_size), seed)"
   ]
  },
  {
   "cell_type": "code",
   "execution_count": 15,
   "metadata": {},
   "outputs": [],
   "source": [
    "# DDPGAgent\n",
    "class DDPGAgent:\n",
    "    def __init__(self, actor_local, actor_target, actor_optimizer,\n",
    "                 critic_local, critic_target, critic_optimizer, noise, memory,\n",
    "                 batch_size, num_agents, update_every=2, gamma=0.99, tau=5e-4):\n",
    "        \"\"\"Initialize all parameters.\"\"\"\n",
    "        self.actor_local = actor_local\n",
    "        self.actor_target = actor_target\n",
    "        self.actor_optimizer = actor_optimizer\n",
    "        \n",
    "        self.critic_local = critic_local\n",
    "        self.critic_target = critic_target\n",
    "        self.critic_optimizer = critic_optimizer\n",
    "        \n",
    "        self.noise = noise\n",
    "        self.memory = memory\n",
    "\n",
    "        self.gamma = gamma\n",
    "        self.tau = tau\n",
    "        self.batch_size = batch_size\n",
    "        self.num_agents = num_agents\n",
    "        \n",
    "        self.t_step = 0\n",
    "        self.update_every = update_every\n",
    "        \n",
    "    def reset(self):\n",
    "        self.noise.reset()\n",
    "        \n",
    "    def act(self, states, device, train_mode=False):\n",
    "        states = torch.from_numpy(states).float().to(device)\n",
    "        self.actor_local.eval()\n",
    "        with torch.no_grad():\n",
    "            actions = self.actor_local(states).cpu().data.numpy()\n",
    "        self.actor_local.train()\n",
    "        \n",
    "        if train_mode:\n",
    "            actions += self.noise.sample()\n",
    "        return np.clip(actions, -1, 1)\n",
    "    \n",
    "    def step(self, state, action, reward, next_state, done):\n",
    "        # Save experience in replay memory\n",
    "        for i in range(self.num_agents):\n",
    "            self.memory.add(state[i,:], action[i,:], reward[i], next_state[i,:], done[i])\n",
    "        \n",
    "        # Learn every UPDATE_EVERY time steps.\n",
    "        self.t_step = (self.t_step + 1) % self.update_every\n",
    "        if self.t_step == 0:\n",
    "            # If enough samples are available in memory, get random subset and learn\n",
    "            if len(self.memory) > self.batch_size:\n",
    "                experiences = self.memory.sample()\n",
    "                self.learn(experiences)\n",
    "    \n",
    "    def learn(self, experiences):\n",
    "        states, actions, rewards, next_states, dones = experiences\n",
    "\n",
    "        # Update Critic\n",
    "        next_actions = self.actor_target(next_states)\n",
    "        q_targets_next = self.critic_target(next_states, next_actions)\n",
    "        q_targets = rewards + (self.gamma * q_targets_next * (1 - dones))\n",
    "        q_expected = self.critic_local(states, actions)\n",
    "        critic_loss = F.mse_loss(q_expected, q_targets)\n",
    "        self.critic_optimizer.zero_grad()\n",
    "        critic_loss.backward()\n",
    "        self.critic_optimizer.step()\n",
    "        \n",
    "        # Update Actor\n",
    "        actions_expected = self.actor_local(states)\n",
    "        actor_loss = -self.critic_local(states, actions_expected).mean()\n",
    "        self.actor_optimizer.zero_grad()\n",
    "        actor_loss.backward()\n",
    "        self.actor_optimizer.step()\n",
    "\n",
    "        # ------------------- update target network ------------------- #\n",
    "        self.soft_update(self.actor_local, self.actor_target, self.tau)\n",
    "        self.soft_update(self.critic_local, self.critic_target, self.tau)\n",
    "        \n",
    "    def soft_update(self, local_model, target_model, tau):\n",
    "        for target_param, local_param in zip(target_model.parameters(), local_model.parameters()):\n",
    "            target_param.data.copy_(tau*local_param.data + (1.0-tau)*target_param.data)\n",
    "        \n",
    "agent = DDPGAgent(actor, actor_target, actor_optimizer, critic, critic_target, critic_optimizer, noise, memory,\n",
    "                  batch_size, num_agents, update_every, gamma, tau)"
   ]
  },
  {
   "cell_type": "markdown",
   "metadata": {},
   "source": [
    "## Train DDPG w/o Batch Norm"
   ]
  },
  {
   "cell_type": "code",
   "execution_count": 16,
   "metadata": {},
   "outputs": [
    {
     "name": "stdout",
     "output_type": "stream",
     "text": [
      "Episode 100\tAverage Score: 27.79\n",
      "Episode 107\tAverage Score: 30.29\n",
      "Environment solved in 7 episodes!\tAverage Score: 30.29\n"
     ]
    }
   ],
   "source": [
    "# train - benchmark\n",
    "n_episodes = 1000\n",
    "all_scores = []\n",
    "scores_window = deque(maxlen=100)\n",
    "\n",
    "for i_episode in range(1, n_episodes+1):\n",
    "\n",
    "    agent.reset()\n",
    "    env_info = env.reset(train_mode=True)[brain_name]\n",
    "    states = env_info.vector_observations           \n",
    "    scores = np.zeros(num_agents)\n",
    "\n",
    "    while True:\n",
    "        actions = agent.act(states, device, train_mode=True)\n",
    "        env_info = env.step(actions)[brain_name]\n",
    "        rewards = env_info.rewards\n",
    "        next_states = env_info.vector_observations\n",
    "        dones = env_info.local_done\n",
    "\n",
    "        agent.step(states, actions, rewards, next_states, dones)\n",
    "\n",
    "        scores += rewards\n",
    "        states = next_states\n",
    "\n",
    "        if np.any(dones):  # exit loop if episode finished  \n",
    "            break\n",
    "\n",
    "    avg_score = np.mean(scores)\n",
    "    scores_window.append(avg_score)\n",
    "    all_scores.append(avg_score)\n",
    "\n",
    "    print('\\rEpisode {}\\tAverage Score: {:.2f}'.format(i_episode, np.mean(scores_window)), end=\"\")\n",
    "    if i_episode % 100 == 0:\n",
    "        print('\\rEpisode {}\\tAverage Score: {:.2f}'.format(i_episode, np.mean(scores_window)))\n",
    "    if np.mean(scores_window)>=30.0:\n",
    "        print('\\nEnvironment solved in {:d} episodes!\\tAverage Score: {:.2f}'.format(i_episode-100, np.mean(scores_window)))\n",
    "        torch.save(agent.actor_local.state_dict(), 'checkpoint_actor.pth')\n",
    "        torch.save(agent.critic_local.state_dict(), 'checkpoint_critic.pth')\n",
    "        break \n"
   ]
  },
  {
   "cell_type": "code",
   "execution_count": 17,
   "metadata": {},
   "outputs": [
    {
     "data": {
      "image/png": "[encoded data removed]",
      "text/plain": [
       "<Figure size 432x288 with 1 Axes>"
      ]
     },
     "metadata": {
      "needs_background": "light"
     },
     "output_type": "display_data"
    }
   ],
   "source": [
    "# Benchmark implementation - full iterations\n",
    "\n",
    "import matplotlib.pyplot as plt\n",
    "%matplotlib inline\n",
    "\n",
    "# 60 - score min 5\n",
    "scores = all_scores\n",
    "\n",
    "# plot the scores\n",
    "fig = plt.figure()\n",
    "ax = fig.add_subplot(111)\n",
    "plt.plot(np.arange(len(scores)), scores)\n",
    "plt.ylabel('Score')\n",
    "plt.xlabel('Episode #')\n",
    "plt.show()"
   ]
  },
  {
   "cell_type": "markdown",
   "metadata": {},
   "source": [
    "## Train DDPG with Batch norm\n",
    "\n",
    "1. First, uncomment the commented out lines of code above\n",
    "2. Then, run the following code to train"
   ]
  },
  {
   "cell_type": "code",
   "execution_count": 8,
   "metadata": {},
   "outputs": [
    {
     "name": "stdout",
     "output_type": "stream",
     "text": [
      "Episode 100\tAverage Score: 22.85\n",
      "Episode 123\tAverage Score: 30.07\n",
      "Environment solved in 23 episodes!\tAverage Score: 30.07\n"
     ]
    }
   ],
   "source": [
    "# train = benchmark + batch norm\n",
    "n_episodes = 1000\n",
    "all_scores = []\n",
    "scores_window = deque(maxlen=100)\n",
    "\n",
    "for i_episode in range(1, n_episodes+1):\n",
    "\n",
    "    agent.reset()\n",
    "    env_info = env.reset(train_mode=True)[brain_name]\n",
    "    states = env_info.vector_observations           \n",
    "    scores = np.zeros(num_agents)\n",
    "\n",
    "    while True:\n",
    "        actions = agent.act(states, device, train_mode=True)\n",
    "        env_info = env.step(actions)[brain_name]\n",
    "        rewards = env_info.rewards\n",
    "        next_states = env_info.vector_observations\n",
    "        dones = env_info.local_done\n",
    "\n",
    "        agent.step(states, actions, rewards, next_states, dones)\n",
    "\n",
    "        scores += rewards\n",
    "        states = next_states\n",
    "\n",
    "        if np.any(dones):  # exit loop if episode finished  \n",
    "            break\n",
    "\n",
    "    avg_score = np.mean(scores)\n",
    "    scores_window.append(avg_score)\n",
    "    all_scores.append(avg_score)\n",
    "\n",
    "    print('\\rEpisode {}\\tAverage Score: {:.2f}'.format(i_episode, np.mean(scores_window)), end=\"\")\n",
    "    if i_episode % 100 == 0:\n",
    "        print('\\rEpisode {}\\tAverage Score: {:.2f}'.format(i_episode, np.mean(scores_window)))\n",
    "    if np.mean(scores_window)>=30.0:\n",
    "        print('\\nEnvironment solved in {:d} episodes!\\tAverage Score: {:.2f}'.format(i_episode-100, np.mean(scores_window)))\n",
    "        torch.save(agent.actor_local.state_dict(), 'checkpoint_actor.pth')\n",
    "        torch.save(agent.critic_local.state_dict(), 'checkpoint_critic.pth')\n",
    "        break \n"
   ]
  },
  {
   "cell_type": "code",
   "execution_count": 9,
   "metadata": {},
   "outputs": [
    {
     "data": {
      "image/png": "[encoded data removed]",
      "text/plain": [
       "<Figure size 432x288 with 1 Axes>"
      ]
     },
     "metadata": {
      "needs_background": "light"
     },
     "output_type": "display_data"
    }
   ],
   "source": [
    "# Benchmark + Batch norms applied - full iterations\n",
    "\n",
    "import matplotlib.pyplot as plt\n",
    "%matplotlib inline\n",
    "\n",
    "# 60 - score min 5\n",
    "scores = all_scores\n",
    "\n",
    "# plot the scores\n",
    "fig = plt.figure()\n",
    "ax = fig.add_subplot(111)\n",
    "plt.plot(np.arange(len(scores)), scores)\n",
    "plt.ylabel('Score')\n",
    "plt.xlabel('Episode #')\n",
    "plt.show()"
   ]
  },
  {
   "cell_type": "markdown",
   "metadata": {},
   "source": [
    "# Appendix: Results of training on the original DDPG cited at the top."
   ]
  },
  {
   "cell_type": "code",
   "execution_count": 9,
   "metadata": {},
   "outputs": [
    {
     "data": {
      "image/png": "[encoded data removed]",
      "text/plain": [
       "<Figure size 432x288 with 1 Axes>"
      ]
     },
     "metadata": {
      "needs_background": "light"
     },
     "output_type": "display_data"
    }
   ],
   "source": [
    "# Exact implementation of the paper\n",
    "# Benchmark + Batch norm + Critic LR increased + Dims increased + Weight decay increased + Batch size decreased\n",
    "\n",
    "import matplotlib.pyplot as plt\n",
    "%matplotlib inline\n",
    "\n",
    "# 60 - score min 5\n",
    "scores = all_scores\n",
    "\n",
    "# plot the scores\n",
    "fig = plt.figure()\n",
    "ax = fig.add_subplot(111)\n",
    "plt.plot(np.arange(len(scores)), scores)\n",
    "plt.ylabel('Score')\n",
    "plt.xlabel('Episode #')\n",
    "plt.show()"
   ]
  },
  {
   "cell_type": "markdown",
   "metadata": {},
   "source": [
    "## Test-run for Visualization"
   ]
  },
  {
   "cell_type": "code",
   "execution_count": 21,
   "metadata": {},
   "outputs": [
    {
     "name": "stdout",
     "output_type": "stream",
     "text": [
      "Total score (averaged over agents) this episode: 39.443999118357894\n"
     ]
    }
   ],
   "source": [
    "states = env_info.vector_observations                  # get the current state (for each agent)\n",
    "scores = np.zeros(num_agents)                          # initialize the score (for each agent)\n",
    "while True:\n",
    "    actions = agent.act(states, device, train_mode=False) # select an action (for each agent)\n",
    "    env_info = env.step(actions)[brain_name]           # send all actions to tne environment\n",
    "    next_states = env_info.vector_observations         # get next state (for each agent)\n",
    "    rewards = env_info.rewards                         # get reward (for each agent)\n",
    "    dones = env_info.local_done                        # see if episode finished\n",
    "    scores += env_info.rewards                         # update the score (for each agent)\n",
    "    states = next_states                               # roll over states to next time step\n",
    "    if np.any(dones):                                  # exit loop if episode finished\n",
    "        break\n",
    "print('Total score (averaged over agents) this episode: {}'.format(np.mean(scores)))"
   ]
  },
  {
   "cell_type": "markdown",
   "metadata": {},
   "source": [
    "## Shutdown the environment"
   ]
  },
  {
   "cell_type": "code",
   "execution_count": 10,
   "metadata": {},
   "outputs": [],
   "source": [
    "env.close()"
   ]
  }
 ],
 "metadata": {
  "kernelspec": {
   "display_name": "Python [conda env:drlnd]",
   "language": "python",
   "name": "conda-env-drlnd-py"
  },
  "language_info": {
   "codemirror_mode": {
    "name": "ipython",
    "version": 3
   },
   "file_extension": ".py",
   "mimetype": "text/x-python",
   "name": "python",
   "nbconvert_exporter": "python",
   "pygments_lexer": "ipython3",
   "version": "3.6.8"
  }
 },
 "nbformat": 4,
 "nbformat_minor": 2
}
